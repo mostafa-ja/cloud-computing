{
  "nbformat": 4,
  "nbformat_minor": 0,
  "metadata": {
    "colab": {
      "provenance": [],
      "collapsed_sections": [],
      "authorship_tag": "ABX9TyO1AcASXzjyEyTw0qfIBvwL",
      "include_colab_link": true
    },
    "kernelspec": {
      "name": "python3",
      "display_name": "Python 3"
    },
    "language_info": {
      "name": "python"
    }
  },
  "cells": [
    {
      "cell_type": "markdown",
      "metadata": {
        "id": "view-in-github",
        "colab_type": "text"
      },
      "source": [
        "<a href=\"https://colab.research.google.com/github/mostafa-ja/cloud-computing/blob/main/FatTree.ipynb\" target=\"_parent\"><img src=\"https://colab.research.google.com/assets/colab-badge.svg\" alt=\"Open In Colab\"/></a>"
      ]
    },
    {
      "cell_type": "code",
      "source": [
        "#import k from user's input\n",
        "k = 8\n",
        "\n",
        "#open the output file\n",
        "f = open(\"output.txt\",\"w\")\n",
        "\n",
        "\n",
        "#Calculating the pods, servers, core switches, aggregation switches\n",
        "\n",
        "pods_n = int(k)\n",
        "AggrSwitch_in_pod = int(k/2)\n",
        "AggrSwitch_n = int(k*AggrSwitch_in_pod)\n",
        "EdgeSwitch_in_pod = int(k/2)\n",
        "EdgeSwitch_n = int(k*EdgeSwitch_in_pod)\n",
        "Servers_in_pod = int(EdgeSwitch_in_pod*(k/2))\n",
        "Servers_n = int(Servers_in_pod*k)\n",
        "CoreSwitch_n = int((k/2)**2)\n",
        "\n",
        "AllSwitch_n = EdgeSwitch_n + AggrSwitch_n + CoreSwitch_n\n",
        "allElements_n = AllSwitch_n + Servers_n\n",
        "\n",
        "# we address switches and servers with numbers from bottom to top\n",
        "Servers_range_start = 0  #include zero\n",
        "Servers_range_end = (Servers_range_start + Servers_n) #exclude the end number\n",
        "EdgeSwitch_range_start = Servers_range_end\n",
        "EdgeSwitch_range_end = (EdgeSwitch_range_start + EdgeSwitch_n)\n",
        "AggrSwitch_range_start = EdgeSwitch_range_end\n",
        "AggrSwitch_range_end = (EdgeSwitch_range_end + AggrSwitch_n)\n",
        "CoreSwitch_range_start = AggrSwitch_range_end\n",
        "CoreSwitch_range_end = (AggrSwitch_range_end + CoreSwitch_n)\n",
        "\n",
        "f.write(f'Servers_range = [{Servers_range_start},{Servers_range_end}) \\n')\n",
        "f.write(f'EdgeSwitch_range = [{EdgeSwitch_range_start},{EdgeSwitch_range_end}) \\n')\n",
        "f.write(f'AggrSwitch_range = [{AggrSwitch_range_start},{AggrSwitch_range_end}) \\n')\n",
        "f.write(f'CoreSwitch_range = [{CoreSwitch_range_start},{CoreSwitch_range_end}) \\n')\n",
        "f.write('-------------- \\n')"
      ],
      "metadata": {
        "id": "p49AS_PY91wh",
        "colab": {
          "base_uri": "https://localhost:8080/"
        },
        "outputId": "94d7778f-c7ca-410e-ee64-a26542905170"
      },
      "execution_count": 121,
      "outputs": [
        {
          "output_type": "execute_result",
          "data": {
            "text/plain": [
              "16"
            ]
          },
          "metadata": {},
          "execution_count": 121
        }
      ]
    },
    {
      "cell_type": "code",
      "source": [
        "#connected list used when we want to keep track of connection and which are 1\n",
        "connected= []"
      ],
      "metadata": {
        "id": "e0YWRsY-D3oE"
      },
      "execution_count": 122,
      "outputs": []
    },
    {
      "cell_type": "code",
      "source": [
        "# program goes stage by stage bottom up, first we create links between EdgeSwitch and Servers\n",
        "server_address = Servers_range_start\n",
        "for EdgeSwitch_address in range(EdgeSwitch_range_start,EdgeSwitch_range_end):\n",
        "  for server in range(int(k/2)):   #each EdgeSwitch connects to (k/2) servers\n",
        "    out = (f'{EdgeSwitch_address:5d} \\t {server_address:5d} \\t 1 \\n')\n",
        "    f.write(out)\n",
        "    connected.append((EdgeSwitch_address,server_address))\n",
        "    out = (f'{server_address:5d} \\t {EdgeSwitch_address:5d} \\t 1 \\n')\n",
        "    f.write(out)\n",
        "    connected.append((server_address,EdgeSwitch_address))\n",
        "\n",
        "    server_address += 1\n"
      ],
      "metadata": {
        "id": "Pzh3QMS-eXKV"
      },
      "execution_count": 123,
      "outputs": []
    },
    {
      "cell_type": "code",
      "source": [
        "#connection between Aggregation switches and edge switches , from top to bottom\n",
        "\n",
        "for pod in range(pods_n):\n",
        "  AggrSwitch_address = int(AggrSwitch_range_start + k/2 * pod)\n",
        "  for aggr in range(int(k/2)):    #each pod has k/2 AggrSwitches\n",
        "    EdgeSwitch_address = int(EdgeSwitch_range_start + k/2 * pod)\n",
        "    for edge in range(int(k/2)):  #each AggrSwitch connects to k/2 EdgeSwitches\n",
        "      out = (f'{AggrSwitch_address:5d} \\t {EdgeSwitch_address:5d} \\t 1 \\n')\n",
        "      f.write(out)\n",
        "      connected.append((AggrSwitch_address,EdgeSwitch_address))\n",
        "      out = (f'{EdgeSwitch_address:5d} \\t {AggrSwitch_address:5d} \\t 1 \\n')\n",
        "      f.write(out)\n",
        "      connected.append((EdgeSwitch_address,AggrSwitch_address))\n",
        "      EdgeSwitch_address += 1\n",
        "\n",
        "    AggrSwitch_address +=1"
      ],
      "metadata": {
        "id": "2aqG3WSSu9dA"
      },
      "execution_count": 124,
      "outputs": []
    },
    {
      "cell_type": "code",
      "source": [
        "#connection between Aggregation switches and Core switches , from bottom to top\n",
        "# we know that in each pot , Aggregation switches connect to all cores , each one with k/2 connection\n",
        "for pod in range(pods_n):\n",
        "  AggrSwitch_address = int(AggrSwitch_range_start + k/2 * pod)\n",
        "  CoreSwitch_address = CoreSwitch_range_start\n",
        "  for aggr in range(int(k/2)):    #each pod has k/2 AggrSwitches\n",
        "    for core in range(int(k/2)):\n",
        "      out = (f'{AggrSwitch_address:5d} \\t {CoreSwitch_address:5d} \\t 1 \\n')\n",
        "      f.write(out)\n",
        "      connected.append((AggrSwitch_address,CoreSwitch_address))\n",
        "      out = (f'{CoreSwitch_address:5d} \\t {AggrSwitch_address:5d} \\t 1 \\n')\n",
        "      f.write(out)\n",
        "      connected.append((CoreSwitch_address,AggrSwitch_address))\n",
        "      CoreSwitch_address += 1\n",
        "\n",
        "    AggrSwitch_address +=1"
      ],
      "metadata": {
        "id": "wKib-BbT3CTq"
      },
      "execution_count": 125,
      "outputs": []
    },
    {
      "cell_type": "code",
      "source": [
        "# implementing the zero connections\n",
        "for i in range(allElements_n):\n",
        "  for j in range(allElements_n):\n",
        "    if ((i,j) not in connected) and (i != j):\n",
        "      out = (f'{i:5d} \\t {j:5d} \\t 0 \\n')\n",
        "      f.write(out)"
      ],
      "metadata": {
        "id": "QoAVD4CVFS7c"
      },
      "execution_count": 126,
      "outputs": []
    },
    {
      "cell_type": "code",
      "source": [
        "f.close()"
      ],
      "metadata": {
        "id": "PaCsxAYYpN_n"
      },
      "execution_count": 127,
      "outputs": []
    },
    {
      "cell_type": "code",
      "source": [
        "! pip install pyvis"
      ],
      "metadata": {
        "colab": {
          "base_uri": "https://localhost:8080/"
        },
        "id": "WXTqSOCUYbYW",
        "outputId": "88cf91f1-ef2f-4535-adcd-0ca6a42f08fd"
      },
      "execution_count": 128,
      "outputs": [
        {
          "output_type": "stream",
          "name": "stdout",
          "text": [
            "Looking in indexes: https://pypi.org/simple, https://us-python.pkg.dev/colab-wheels/public/simple/\n",
            "Requirement already satisfied: pyvis in /usr/local/lib/python3.7/dist-packages (0.3.0)\n",
            "Requirement already satisfied: ipython>=5.3.0 in /usr/local/lib/python3.7/dist-packages (from pyvis) (7.9.0)\n",
            "Requirement already satisfied: jsonpickle>=1.4.1 in /usr/local/lib/python3.7/dist-packages (from pyvis) (2.2.0)\n",
            "Requirement already satisfied: networkx>=1.11 in /usr/local/lib/python3.7/dist-packages (from pyvis) (2.6.3)\n",
            "Requirement already satisfied: jinja2>=2.9.6 in /usr/local/lib/python3.7/dist-packages (from pyvis) (2.11.3)\n",
            "Requirement already satisfied: pygments in /usr/local/lib/python3.7/dist-packages (from ipython>=5.3.0->pyvis) (2.6.1)\n",
            "Requirement already satisfied: setuptools>=18.5 in /usr/local/lib/python3.7/dist-packages (from ipython>=5.3.0->pyvis) (57.4.0)\n",
            "Requirement already satisfied: pexpect in /usr/local/lib/python3.7/dist-packages (from ipython>=5.3.0->pyvis) (4.8.0)\n",
            "Requirement already satisfied: backcall in /usr/local/lib/python3.7/dist-packages (from ipython>=5.3.0->pyvis) (0.2.0)\n",
            "Requirement already satisfied: prompt-toolkit<2.1.0,>=2.0.0 in /usr/local/lib/python3.7/dist-packages (from ipython>=5.3.0->pyvis) (2.0.10)\n",
            "Requirement already satisfied: jedi>=0.10 in /usr/local/lib/python3.7/dist-packages (from ipython>=5.3.0->pyvis) (0.18.1)\n",
            "Requirement already satisfied: decorator in /usr/local/lib/python3.7/dist-packages (from ipython>=5.3.0->pyvis) (4.4.2)\n",
            "Requirement already satisfied: traitlets>=4.2 in /usr/local/lib/python3.7/dist-packages (from ipython>=5.3.0->pyvis) (5.1.1)\n",
            "Requirement already satisfied: pickleshare in /usr/local/lib/python3.7/dist-packages (from ipython>=5.3.0->pyvis) (0.7.5)\n",
            "Requirement already satisfied: parso<0.9.0,>=0.8.0 in /usr/local/lib/python3.7/dist-packages (from jedi>=0.10->ipython>=5.3.0->pyvis) (0.8.3)\n",
            "Requirement already satisfied: MarkupSafe>=0.23 in /usr/local/lib/python3.7/dist-packages (from jinja2>=2.9.6->pyvis) (2.0.1)\n",
            "Requirement already satisfied: importlib-metadata in /usr/local/lib/python3.7/dist-packages (from jsonpickle>=1.4.1->pyvis) (4.13.0)\n",
            "Requirement already satisfied: wcwidth in /usr/local/lib/python3.7/dist-packages (from prompt-toolkit<2.1.0,>=2.0.0->ipython>=5.3.0->pyvis) (0.2.5)\n",
            "Requirement already satisfied: six>=1.9.0 in /usr/local/lib/python3.7/dist-packages (from prompt-toolkit<2.1.0,>=2.0.0->ipython>=5.3.0->pyvis) (1.15.0)\n",
            "Requirement already satisfied: typing-extensions>=3.6.4 in /usr/local/lib/python3.7/dist-packages (from importlib-metadata->jsonpickle>=1.4.1->pyvis) (4.1.1)\n",
            "Requirement already satisfied: zipp>=0.5 in /usr/local/lib/python3.7/dist-packages (from importlib-metadata->jsonpickle>=1.4.1->pyvis) (3.9.0)\n",
            "Requirement already satisfied: ptyprocess>=0.5 in /usr/local/lib/python3.7/dist-packages (from pexpect->ipython>=5.3.0->pyvis) (0.7.0)\n"
          ]
        }
      ]
    },
    {
      "cell_type": "code",
      "source": [
        "from pyvis.network import Network\n",
        "net = Network(height='700px', width='100%')\n",
        "\n",
        "\n",
        "\n",
        "for i in range(Servers_range_start,Servers_range_end):\n",
        "  net.add_node(i,label=str(i),group='a')\n",
        "\n",
        "for i in range(EdgeSwitch_range_start,EdgeSwitch_range_end):\n",
        "  net.add_node(i,label=str(i),group='b')\n",
        "\n",
        "for i in range(AggrSwitch_range_start,AggrSwitch_range_end):\n",
        "  net.add_node(i,label=str(i),group='c')\n",
        "\n",
        "for i in range(CoreSwitch_range_start,CoreSwitch_range_end):\n",
        "  net.add_node(i,label=str(i),group='d')\n",
        "\n",
        "net.add_edges(connected)\n",
        "\n",
        "#for i,j in connected:\n",
        "  #net.add_edge(i,j)\n",
        "\n",
        "#net.repulsion(node_distance=400, spring_length=100)\n",
        "net.show(\"Network.html\")"
      ],
      "metadata": {
        "id": "8DYkCeQ4ZHyj"
      },
      "execution_count": 129,
      "outputs": []
    },
    {
      "cell_type": "code",
      "source": [
        "net.neighbors(16)"
      ],
      "metadata": {
        "colab": {
          "base_uri": "https://localhost:8080/"
        },
        "id": "OMZQUt1BoEcN",
        "outputId": "14cc30b0-737c-4616-e674-7e15dfb0c226"
      },
      "execution_count": 130,
      "outputs": [
        {
          "output_type": "execute_result",
          "data": {
            "text/plain": [
              "{132}"
            ]
          },
          "metadata": {},
          "execution_count": 130
        }
      ]
    },
    {
      "cell_type": "code",
      "source": [
        "net.num_edges()"
      ],
      "metadata": {
        "colab": {
          "base_uri": "https://localhost:8080/"
        },
        "id": "rS2yP4mBoZ6M",
        "outputId": "e506efe6-60d9-4f28-cc9d-388f8e5d7d6c"
      },
      "execution_count": 131,
      "outputs": [
        {
          "output_type": "execute_result",
          "data": {
            "text/plain": [
              "384"
            ]
          },
          "metadata": {},
          "execution_count": 131
        }
      ]
    },
    {
      "cell_type": "code",
      "source": [
        "net.num_nodes()"
      ],
      "metadata": {
        "colab": {
          "base_uri": "https://localhost:8080/"
        },
        "id": "XTGic5SIohhN",
        "outputId": "b66895ba-c1d1-4921-b193-d8bf2183c9bb"
      },
      "execution_count": 132,
      "outputs": [
        {
          "output_type": "execute_result",
          "data": {
            "text/plain": [
              "208"
            ]
          },
          "metadata": {},
          "execution_count": 132
        }
      ]
    }
  ]
}