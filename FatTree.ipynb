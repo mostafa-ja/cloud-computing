{
  "nbformat": 4,
  "nbformat_minor": 0,
  "metadata": {
    "colab": {
      "provenance": [],
      "collapsed_sections": [],
      "authorship_tag": "ABX9TyN5S9Mm9ISvpTe3Vsw9UpQl",
      "include_colab_link": true
    },
    "kernelspec": {
      "name": "python3",
      "display_name": "Python 3"
    },
    "language_info": {
      "name": "python"
    }
  },
  "cells": [
    {
      "cell_type": "markdown",
      "metadata": {
        "id": "view-in-github",
        "colab_type": "text"
      },
      "source": [
        "<a href=\"https://colab.research.google.com/github/mostafa-ja/cloud-computing/blob/main/FatTree.ipynb\" target=\"_parent\"><img src=\"https://colab.research.google.com/assets/colab-badge.svg\" alt=\"Open In Colab\"/></a>"
      ]
    },
    {
      "cell_type": "code",
      "source": [
        "#import k from user's input\n",
        "k = 4\n",
        "\n",
        "#open the output file\n",
        "f = open(\"output.txt\",\"w\")\n",
        "\n",
        "\n",
        "#Calculating the pods, servers, core switches, aggregation switches\n",
        "\n",
        "pods_n = int(k)\n",
        "AggrSwitch_in_pod = int(k/2)\n",
        "AggrSwitch_n = int(k*AggrSwitch_in_pod)\n",
        "EdgeSwitch_in_pod = int(k/2)\n",
        "EdgeSwitch_n = int(k*EdgeSwitch_in_pod)\n",
        "Servers_in_pod = int(EdgeSwitch_in_pod*(k/2))\n",
        "Servers_n = int(Servers_in_pod*k)\n",
        "CoreSwitch_n = int((k/2)**2)\n",
        "\n",
        "AllSwitch_n = EdgeSwitch_n + AggrSwitch_n + CoreSwitch_n\n",
        "allElements_n = AllSwitch_n + Servers_n\n",
        "\n",
        "# we address switches and servers with numbers from bottom to top\n",
        "Servers_range_start = 0  #include zero\n",
        "Servers_range_end = (Servers_range_start + Servers_n) #exclude the end number\n",
        "EdgeSwitch_range_start = Servers_range_end\n",
        "EdgeSwitch_range_end = (EdgeSwitch_range_start + EdgeSwitch_n)\n",
        "AggrSwitch_range_start = EdgeSwitch_range_end\n",
        "AggrSwitch_range_end = (EdgeSwitch_range_end + AggrSwitch_n)\n",
        "CoreSwitch_range_start = AggrSwitch_range_end\n",
        "CoreSwitch_range_end = (AggrSwitch_range_end + CoreSwitch_n)\n",
        "\n",
        "f.write(f'Servers_range = [{Servers_range_start},{Servers_range_end}) \\n')\n",
        "f.write(f'EdgeSwitch_range = [{EdgeSwitch_range_start},{EdgeSwitch_range_end}) \\n')\n",
        "f.write(f'AggrSwitch_range = [{AggrSwitch_range_start},{AggrSwitch_range_end}) \\n')\n",
        "f.write(f'CoreSwitch_range = [{CoreSwitch_range_start},{CoreSwitch_range_end}) \\n')\n",
        "f.write('-------------- \\n')"
      ],
      "metadata": {
        "id": "p49AS_PY91wh",
        "colab": {
          "base_uri": "https://localhost:8080/"
        },
        "outputId": "a4123237-b7be-4360-995c-472a104056c4"
      },
      "execution_count": 36,
      "outputs": [
        {
          "output_type": "execute_result",
          "data": {
            "text/plain": [
              "16"
            ]
          },
          "metadata": {},
          "execution_count": 36
        }
      ]
    },
    {
      "cell_type": "code",
      "source": [
        "#connected list used when we want to keep track of connection and which are 1\n",
        "connected= []"
      ],
      "metadata": {
        "id": "e0YWRsY-D3oE"
      },
      "execution_count": 37,
      "outputs": []
    },
    {
      "cell_type": "code",
      "source": [
        "# program goes stage by stage bottom up, first we create links between EdgeSwitch and Servers\n",
        "server_address = Servers_range_start\n",
        "for EdgeSwitch_address in range(EdgeSwitch_range_start,EdgeSwitch_range_end):\n",
        "  for server in range(int(k/2)):   #each EdgeSwitch connects to (k/2) servers\n",
        "    out = (f'{EdgeSwitch_address:5d} \\t {server_address:5d} \\t 1 \\n')\n",
        "    f.write(out)\n",
        "    connected.append((EdgeSwitch_address,server_address))\n",
        "    out = (f'{server_address:5d} \\t {EdgeSwitch_address:5d} \\t 1 \\n')\n",
        "    f.write(out)\n",
        "    connected.append((server_address,EdgeSwitch_address))\n",
        "\n",
        "    server_address += 1\n"
      ],
      "metadata": {
        "id": "Pzh3QMS-eXKV"
      },
      "execution_count": 38,
      "outputs": []
    },
    {
      "cell_type": "code",
      "source": [
        "#connection between Aggregation switches and edge switches , from top to bottom\n",
        "\n",
        "for pod in range(pods_n):\n",
        "  AggrSwitch_address = int(AggrSwitch_range_start + k/2 * pod)\n",
        "  for aggr in range(int(k/2)):    #each pod has k/2 AggrSwitches\n",
        "    EdgeSwitch_address = int(EdgeSwitch_range_start + k/2 * pod)\n",
        "    for edge in range(int(k/2)):  #each AggrSwitch connects to k/2 EdgeSwitches\n",
        "      out = (f'{AggrSwitch_address:5d} \\t {EdgeSwitch_address:5d} \\t 1 \\n')\n",
        "      f.write(out)\n",
        "      connected.append((AggrSwitch_address,EdgeSwitch_address))\n",
        "      out = (f'{EdgeSwitch_address:5d} \\t {AggrSwitch_address:5d} \\t 1 \\n')\n",
        "      f.write(out)\n",
        "      connected.append((EdgeSwitch_address,AggrSwitch_address))\n",
        "      EdgeSwitch_address += 1\n",
        "\n",
        "    AggrSwitch_address +=1"
      ],
      "metadata": {
        "id": "2aqG3WSSu9dA"
      },
      "execution_count": 39,
      "outputs": []
    },
    {
      "cell_type": "code",
      "source": [
        "#connection between Aggregation switches and Core switches , from bottom to top\n",
        "# we know that in each pot , Aggregation switches connect to all cores , each one with k/2 connection\n",
        "for pod in range(pods_n):\n",
        "  AggrSwitch_address = int(AggrSwitch_range_start + k/2 * pod)\n",
        "  CoreSwitch_address = CoreSwitch_range_start\n",
        "  for aggr in range(int(k/2)):    #each pod has k/2 AggrSwitches\n",
        "    for core in range(int(k/2)):\n",
        "      out = (f'{AggrSwitch_address:5d} \\t {CoreSwitch_address:5d} \\t 1 \\n')\n",
        "      f.write(out)\n",
        "      connected.append((AggrSwitch_address,CoreSwitch_address))\n",
        "      out = (f'{CoreSwitch_address:5d} \\t {AggrSwitch_address:5d} \\t 1 \\n')\n",
        "      f.write(out)\n",
        "      connected.append((CoreSwitch_address,AggrSwitch_address))\n",
        "      CoreSwitch_address += 1\n",
        "\n",
        "    AggrSwitch_address +=1"
      ],
      "metadata": {
        "id": "wKib-BbT3CTq"
      },
      "execution_count": 40,
      "outputs": []
    },
    {
      "cell_type": "code",
      "source": [
        "# implementing the zero connections\n",
        "for i in range(allElements_n):\n",
        "  for j in range(allElements_n):\n",
        "    if ((i,j) not in connected) and (i != j):\n",
        "      out = (f'{i:5d} \\t {j:5d} \\t 0 \\n')\n",
        "      f.write(out)"
      ],
      "metadata": {
        "id": "QoAVD4CVFS7c"
      },
      "execution_count": 41,
      "outputs": []
    },
    {
      "cell_type": "code",
      "source": [
        "f.close()"
      ],
      "metadata": {
        "id": "PaCsxAYYpN_n"
      },
      "execution_count": 42,
      "outputs": []
    },
    {
      "cell_type": "code",
      "source": [
        "def FatTree(k=4):\n",
        "\n",
        "  #open the output file\n",
        "  f = open(\"output.txt\",\"w\")\n",
        "\n",
        "\n",
        "  #Calculating the pods, servers, core switches, aggregation switches\n",
        "\n",
        "  pods_n = int(k)\n",
        "  AggrSwitch_in_pod = int(k/2)\n",
        "  AggrSwitch_n = int(k*AggrSwitch_in_pod)\n",
        "  EdgeSwitch_in_pod = int(k/2)\n",
        "  EdgeSwitch_n = int(k*EdgeSwitch_in_pod)\n",
        "  Servers_in_pod = int(EdgeSwitch_in_pod*(k/2))\n",
        "  Servers_n = int(Servers_in_pod*k)\n",
        "  CoreSwitch_n = int((k/2)**2)\n",
        "\n",
        "  AllSwitch_n = EdgeSwitch_n + AggrSwitch_n + CoreSwitch_n\n",
        "  allElements_n = AllSwitch_n + Servers_n\n",
        "\n",
        "  # we address switches and servers with numbers from bottom to top\n",
        "  Servers_range_start = 0  #include zero\n",
        "  Servers_range_end = (Servers_range_start + Servers_n) #exclude the end number\n",
        "  EdgeSwitch_range_start = Servers_range_end\n",
        "  EdgeSwitch_range_end = (EdgeSwitch_range_start + EdgeSwitch_n)\n",
        "  AggrSwitch_range_start = EdgeSwitch_range_end\n",
        "  AggrSwitch_range_end = (EdgeSwitch_range_end + AggrSwitch_n)\n",
        "  CoreSwitch_range_start = AggrSwitch_range_end\n",
        "  CoreSwitch_range_end = (AggrSwitch_range_end + CoreSwitch_n)\n",
        "\n",
        "  f.write(f'Servers_range = [{Servers_range_start},{Servers_range_end}) \\n')\n",
        "  f.write(f'EdgeSwitch_range = [{EdgeSwitch_range_start},{EdgeSwitch_range_end}) \\n')\n",
        "  f.write(f'AggrSwitch_range = [{AggrSwitch_range_start},{AggrSwitch_range_end}) \\n')\n",
        "  f.write(f'CoreSwitch_range = [{CoreSwitch_range_start},{CoreSwitch_range_end}) \\n')\n",
        "  f.write('-------------- \\n')\n",
        "\n",
        "\n",
        "  #connected list used when we want to keep track of connection and which are 1\n",
        "  connected= []\n",
        "\n",
        "\n",
        "  # program goes stage by stage bottom up, first we create links between EdgeSwitch and Servers\n",
        "  server_address = Servers_range_start\n",
        "  for EdgeSwitch_address in range(EdgeSwitch_range_start,EdgeSwitch_range_end):\n",
        "    for server in range(int(k/2)):   #each EdgeSwitch connects to (k/2) servers\n",
        "      out = (f'{EdgeSwitch_address:5d} \\t {server_address:5d} \\t 1 \\n')\n",
        "      f.write(out)\n",
        "      connected.append((EdgeSwitch_address,server_address))\n",
        "      out = (f'{server_address:5d} \\t {EdgeSwitch_address:5d} \\t 1 \\n')\n",
        "      f.write(out)\n",
        "      connected.append((server_address,EdgeSwitch_address))\n",
        "\n",
        "      server_address += 1\n",
        "\n",
        "\n",
        "  #connection between Aggregation switches and edge switches , from top to bottom\n",
        "\n",
        "  for pod in range(pods_n):\n",
        "    AggrSwitch_address = int(AggrSwitch_range_start + k/2 * pod)\n",
        "    for aggr in range(int(k/2)):    #each pod has k/2 AggrSwitches\n",
        "      EdgeSwitch_address = int(EdgeSwitch_range_start + k/2 * pod)\n",
        "      for edge in range(int(k/2)):  #each AggrSwitch connects to k/2 EdgeSwitches\n",
        "        out = (f'{AggrSwitch_address:5d} \\t {EdgeSwitch_address:5d} \\t 1 \\n')\n",
        "        f.write(out)\n",
        "        connected.append((AggrSwitch_address,EdgeSwitch_address))\n",
        "        out = (f'{EdgeSwitch_address:5d} \\t {AggrSwitch_address:5d} \\t 1 \\n')\n",
        "        f.write(out)\n",
        "        connected.append((EdgeSwitch_address,AggrSwitch_address))\n",
        "        EdgeSwitch_address += 1\n",
        "\n",
        "      AggrSwitch_address +=1\n",
        "      \n",
        "  #connection between Aggregation switches and Core switches , from bottom to top\n",
        "  # we know that in each pot , Aggregation switches connect to all cores , each one with k/2 connection\n",
        "  for pod in range(pods_n):\n",
        "    AggrSwitch_address = int(AggrSwitch_range_start + k/2 * pod)\n",
        "    CoreSwitch_address = CoreSwitch_range_start\n",
        "    for aggr in range(int(k/2)):    #each pod has k/2 AggrSwitches\n",
        "      for core in range(int(k/2)):\n",
        "        out = (f'{AggrSwitch_address:5d} \\t {CoreSwitch_address:5d} \\t 1 \\n')\n",
        "        f.write(out)\n",
        "        connected.append((AggrSwitch_address,CoreSwitch_address))\n",
        "        out = (f'{CoreSwitch_address:5d} \\t {AggrSwitch_address:5d} \\t 1 \\n')\n",
        "        f.write(out)\n",
        "        connected.append((CoreSwitch_address,AggrSwitch_address))\n",
        "        CoreSwitch_address += 1\n",
        "\n",
        "      AggrSwitch_address +=1\n",
        "\n",
        "\n",
        "\n",
        "  # implementing the zero connections\n",
        "  for i in range(allElements_n):\n",
        "    for j in range(allElements_n):\n",
        "      if ((i,j) not in connected) and (i != j):\n",
        "        out = (f'{i:5d} \\t {j:5d} \\t 0 \\n')\n",
        "        f.write(out)\n",
        "\n",
        "    \n",
        "  f.close()"
      ],
      "metadata": {
        "id": "uiqpUwsR6ECv"
      },
      "execution_count": 32,
      "outputs": []
    },
    {
      "cell_type": "code",
      "source": [
        "FatTree(4)"
      ],
      "metadata": {
        "id": "2ALXBWEr6vqn"
      },
      "execution_count": 43,
      "outputs": []
    }
  ]
}