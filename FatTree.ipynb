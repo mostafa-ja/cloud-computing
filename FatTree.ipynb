{
  "nbformat": 4,
  "nbformat_minor": 0,
  "metadata": {
    "colab": {
      "provenance": [],
      "collapsed_sections": [],
      "authorship_tag": "ABX9TyNKUuM3EU8zJmND47CdKlb/",
      "include_colab_link": true
    },
    "kernelspec": {
      "name": "python3",
      "display_name": "Python 3"
    },
    "language_info": {
      "name": "python"
    }
  },
  "cells": [
    {
      "cell_type": "markdown",
      "metadata": {
        "id": "view-in-github",
        "colab_type": "text"
      },
      "source": [
        "<a href=\"https://colab.research.google.com/github/mostafa-ja/cloud-computing/blob/main/FatTree.ipynb\" target=\"_parent\"><img src=\"https://colab.research.google.com/assets/colab-badge.svg\" alt=\"Open In Colab\"/></a>"
      ]
    },
    {
      "cell_type": "code",
      "source": [
        "! pip install pyvis"
      ],
      "metadata": {
        "colab": {
          "base_uri": "https://localhost:8080/"
        },
        "id": "WXTqSOCUYbYW",
        "outputId": "eb7c84b1-00a4-4867-d874-1ab0dff1753d"
      },
      "execution_count": 46,
      "outputs": [
        {
          "output_type": "stream",
          "name": "stdout",
          "text": [
            "Looking in indexes: https://pypi.org/simple, https://us-python.pkg.dev/colab-wheels/public/simple/\n",
            "Collecting pyvis\n",
            "  Downloading pyvis-0.3.0.tar.gz (592 kB)\n",
            "\u001b[K     |████████████████████████████████| 592 kB 4.2 MB/s \n",
            "\u001b[?25hRequirement already satisfied: jinja2>=2.9.6 in /usr/local/lib/python3.7/dist-packages (from pyvis) (2.11.3)\n",
            "Requirement already satisfied: networkx>=1.11 in /usr/local/lib/python3.7/dist-packages (from pyvis) (2.6.3)\n",
            "Requirement already satisfied: ipython>=5.3.0 in /usr/local/lib/python3.7/dist-packages (from pyvis) (7.9.0)\n",
            "Collecting jsonpickle>=1.4.1\n",
            "  Downloading jsonpickle-2.2.0-py2.py3-none-any.whl (39 kB)\n",
            "Requirement already satisfied: pickleshare in /usr/local/lib/python3.7/dist-packages (from ipython>=5.3.0->pyvis) (0.7.5)\n",
            "Requirement already satisfied: prompt-toolkit<2.1.0,>=2.0.0 in /usr/local/lib/python3.7/dist-packages (from ipython>=5.3.0->pyvis) (2.0.10)\n",
            "Requirement already satisfied: decorator in /usr/local/lib/python3.7/dist-packages (from ipython>=5.3.0->pyvis) (4.4.2)\n",
            "Collecting jedi>=0.10\n",
            "  Downloading jedi-0.18.1-py2.py3-none-any.whl (1.6 MB)\n",
            "\u001b[K     |████████████████████████████████| 1.6 MB 50.8 MB/s \n",
            "\u001b[?25hRequirement already satisfied: setuptools>=18.5 in /usr/local/lib/python3.7/dist-packages (from ipython>=5.3.0->pyvis) (57.4.0)\n",
            "Requirement already satisfied: traitlets>=4.2 in /usr/local/lib/python3.7/dist-packages (from ipython>=5.3.0->pyvis) (5.1.1)\n",
            "Requirement already satisfied: backcall in /usr/local/lib/python3.7/dist-packages (from ipython>=5.3.0->pyvis) (0.2.0)\n",
            "Requirement already satisfied: pygments in /usr/local/lib/python3.7/dist-packages (from ipython>=5.3.0->pyvis) (2.6.1)\n",
            "Requirement already satisfied: pexpect in /usr/local/lib/python3.7/dist-packages (from ipython>=5.3.0->pyvis) (4.8.0)\n",
            "Requirement already satisfied: parso<0.9.0,>=0.8.0 in /usr/local/lib/python3.7/dist-packages (from jedi>=0.10->ipython>=5.3.0->pyvis) (0.8.3)\n",
            "Requirement already satisfied: MarkupSafe>=0.23 in /usr/local/lib/python3.7/dist-packages (from jinja2>=2.9.6->pyvis) (2.0.1)\n",
            "Requirement already satisfied: importlib-metadata in /usr/local/lib/python3.7/dist-packages (from jsonpickle>=1.4.1->pyvis) (4.13.0)\n",
            "Requirement already satisfied: wcwidth in /usr/local/lib/python3.7/dist-packages (from prompt-toolkit<2.1.0,>=2.0.0->ipython>=5.3.0->pyvis) (0.2.5)\n",
            "Requirement already satisfied: six>=1.9.0 in /usr/local/lib/python3.7/dist-packages (from prompt-toolkit<2.1.0,>=2.0.0->ipython>=5.3.0->pyvis) (1.15.0)\n",
            "Requirement already satisfied: typing-extensions>=3.6.4 in /usr/local/lib/python3.7/dist-packages (from importlib-metadata->jsonpickle>=1.4.1->pyvis) (4.1.1)\n",
            "Requirement already satisfied: zipp>=0.5 in /usr/local/lib/python3.7/dist-packages (from importlib-metadata->jsonpickle>=1.4.1->pyvis) (3.9.0)\n",
            "Requirement already satisfied: ptyprocess>=0.5 in /usr/local/lib/python3.7/dist-packages (from pexpect->ipython>=5.3.0->pyvis) (0.7.0)\n",
            "Building wheels for collected packages: pyvis\n",
            "  Building wheel for pyvis (setup.py) ... \u001b[?25l\u001b[?25hdone\n",
            "  Created wheel for pyvis: filename=pyvis-0.3.0-py3-none-any.whl size=600250 sha256=2cf4edb0e940f544f62e1bf8ea0ad5e745dd08c0c307be65dac9686a2609ae82\n",
            "  Stored in directory: /root/.cache/pip/wheels/57/74/32/e404e0d76fbb2dc4e3791b821cfae6a69c1a6677ded99dc8b7\n",
            "Successfully built pyvis\n",
            "Installing collected packages: jedi, jsonpickle, pyvis\n",
            "Successfully installed jedi-0.18.1 jsonpickle-2.2.0 pyvis-0.3.0\n"
          ]
        }
      ]
    },
    {
      "cell_type": "code",
      "source": [
        "#import k from user's input\n",
        "k = 4\n",
        "\n",
        "#open the output file\n",
        "f = open(\"output.txt\",\"w\")\n",
        "\n",
        "\n",
        "#Calculating the pods, servers, core switches, aggregation switches\n",
        "\n",
        "pods_n = int(k)\n",
        "AggrSwitch_in_pod = int(k/2)\n",
        "AggrSwitch_n = int(k*AggrSwitch_in_pod)\n",
        "EdgeSwitch_in_pod = int(k/2)\n",
        "EdgeSwitch_n = int(k*EdgeSwitch_in_pod)\n",
        "Servers_in_pod = int(EdgeSwitch_in_pod*(k/2))\n",
        "Servers_n = int(Servers_in_pod*k)\n",
        "CoreSwitch_n = int((k/2)**2)\n",
        "\n",
        "AllSwitch_n = EdgeSwitch_n + AggrSwitch_n + CoreSwitch_n\n",
        "allElements_n = AllSwitch_n + Servers_n\n",
        "\n",
        "# we address switches and servers with numbers from bottom to top\n",
        "Servers_range_start = 0  #include zero\n",
        "Servers_range_end = (Servers_range_start + Servers_n) #exclude the end number\n",
        "EdgeSwitch_range_start = Servers_range_end\n",
        "EdgeSwitch_range_end = (EdgeSwitch_range_start + EdgeSwitch_n)\n",
        "AggrSwitch_range_start = EdgeSwitch_range_end\n",
        "AggrSwitch_range_end = (EdgeSwitch_range_end + AggrSwitch_n)\n",
        "CoreSwitch_range_start = AggrSwitch_range_end\n",
        "CoreSwitch_range_end = (AggrSwitch_range_end + CoreSwitch_n)\n",
        "\n",
        "f.write(f'Servers_range = [{Servers_range_start},{Servers_range_end}) \\n')\n",
        "f.write(f'EdgeSwitch_range = [{EdgeSwitch_range_start},{EdgeSwitch_range_end}) \\n')\n",
        "f.write(f'AggrSwitch_range = [{AggrSwitch_range_start},{AggrSwitch_range_end}) \\n')\n",
        "f.write(f'CoreSwitch_range = [{CoreSwitch_range_start},{CoreSwitch_range_end}) \\n')\n",
        "f.write('-------------- \\n')"
      ],
      "metadata": {
        "id": "p49AS_PY91wh",
        "colab": {
          "base_uri": "https://localhost:8080/"
        },
        "outputId": "a4123237-b7be-4360-995c-472a104056c4"
      },
      "execution_count": 36,
      "outputs": [
        {
          "output_type": "execute_result",
          "data": {
            "text/plain": [
              "16"
            ]
          },
          "metadata": {},
          "execution_count": 36
        }
      ]
    },
    {
      "cell_type": "code",
      "source": [
        "#connected list used when we want to keep track of connection and which are 1\n",
        "connected= []"
      ],
      "metadata": {
        "id": "e0YWRsY-D3oE"
      },
      "execution_count": 37,
      "outputs": []
    },
    {
      "cell_type": "code",
      "source": [
        "# program goes stage by stage bottom up, first we create links between EdgeSwitch and Servers\n",
        "server_address = Servers_range_start\n",
        "for EdgeSwitch_address in range(EdgeSwitch_range_start,EdgeSwitch_range_end):\n",
        "  for server in range(int(k/2)):   #each EdgeSwitch connects to (k/2) servers\n",
        "    out = (f'{EdgeSwitch_address:5d} \\t {server_address:5d} \\t 1 \\n')\n",
        "    f.write(out)\n",
        "    connected.append((EdgeSwitch_address,server_address))\n",
        "    out = (f'{server_address:5d} \\t {EdgeSwitch_address:5d} \\t 1 \\n')\n",
        "    f.write(out)\n",
        "    connected.append((server_address,EdgeSwitch_address))\n",
        "\n",
        "    server_address += 1\n"
      ],
      "metadata": {
        "id": "Pzh3QMS-eXKV"
      },
      "execution_count": 38,
      "outputs": []
    },
    {
      "cell_type": "code",
      "source": [
        "#connection between Aggregation switches and edge switches , from top to bottom\n",
        "\n",
        "for pod in range(pods_n):\n",
        "  AggrSwitch_address = int(AggrSwitch_range_start + k/2 * pod)\n",
        "  for aggr in range(int(k/2)):    #each pod has k/2 AggrSwitches\n",
        "    EdgeSwitch_address = int(EdgeSwitch_range_start + k/2 * pod)\n",
        "    for edge in range(int(k/2)):  #each AggrSwitch connects to k/2 EdgeSwitches\n",
        "      out = (f'{AggrSwitch_address:5d} \\t {EdgeSwitch_address:5d} \\t 1 \\n')\n",
        "      f.write(out)\n",
        "      connected.append((AggrSwitch_address,EdgeSwitch_address))\n",
        "      out = (f'{EdgeSwitch_address:5d} \\t {AggrSwitch_address:5d} \\t 1 \\n')\n",
        "      f.write(out)\n",
        "      connected.append((EdgeSwitch_address,AggrSwitch_address))\n",
        "      EdgeSwitch_address += 1\n",
        "\n",
        "    AggrSwitch_address +=1"
      ],
      "metadata": {
        "id": "2aqG3WSSu9dA"
      },
      "execution_count": 39,
      "outputs": []
    },
    {
      "cell_type": "code",
      "source": [
        "#connection between Aggregation switches and Core switches , from bottom to top\n",
        "# we know that in each pot , Aggregation switches connect to all cores , each one with k/2 connection\n",
        "for pod in range(pods_n):\n",
        "  AggrSwitch_address = int(AggrSwitch_range_start + k/2 * pod)\n",
        "  CoreSwitch_address = CoreSwitch_range_start\n",
        "  for aggr in range(int(k/2)):    #each pod has k/2 AggrSwitches\n",
        "    for core in range(int(k/2)):\n",
        "      out = (f'{AggrSwitch_address:5d} \\t {CoreSwitch_address:5d} \\t 1 \\n')\n",
        "      f.write(out)\n",
        "      connected.append((AggrSwitch_address,CoreSwitch_address))\n",
        "      out = (f'{CoreSwitch_address:5d} \\t {AggrSwitch_address:5d} \\t 1 \\n')\n",
        "      f.write(out)\n",
        "      connected.append((CoreSwitch_address,AggrSwitch_address))\n",
        "      CoreSwitch_address += 1\n",
        "\n",
        "    AggrSwitch_address +=1"
      ],
      "metadata": {
        "id": "wKib-BbT3CTq"
      },
      "execution_count": 40,
      "outputs": []
    },
    {
      "cell_type": "code",
      "source": [
        "# implementing the zero connections\n",
        "for i in range(allElements_n):\n",
        "  for j in range(allElements_n):\n",
        "    if ((i,j) not in connected) and (i != j):\n",
        "      out = (f'{i:5d} \\t {j:5d} \\t 0 \\n')\n",
        "      f.write(out)"
      ],
      "metadata": {
        "id": "QoAVD4CVFS7c"
      },
      "execution_count": 41,
      "outputs": []
    },
    {
      "cell_type": "code",
      "source": [
        "f.close()"
      ],
      "metadata": {
        "id": "PaCsxAYYpN_n"
      },
      "execution_count": 42,
      "outputs": []
    },
    {
      "cell_type": "code",
      "source": [
        "def FatTree(k=4):\n",
        "\n",
        "  #open the output file\n",
        "  f = open(\"output.txt\",\"w\")\n",
        "\n",
        "\n",
        "  #Calculating the pods, servers, core switches, aggregation switches\n",
        "\n",
        "  pods_n = int(k)\n",
        "  AggrSwitch_in_pod = int(k/2)\n",
        "  AggrSwitch_n = int(k*AggrSwitch_in_pod)\n",
        "  EdgeSwitch_in_pod = int(k/2)\n",
        "  EdgeSwitch_n = int(k*EdgeSwitch_in_pod)\n",
        "  Servers_in_pod = int(EdgeSwitch_in_pod*(k/2))\n",
        "  Servers_n = int(Servers_in_pod*k)\n",
        "  CoreSwitch_n = int((k/2)**2)\n",
        "\n",
        "  AllSwitch_n = EdgeSwitch_n + AggrSwitch_n + CoreSwitch_n\n",
        "  allElements_n = AllSwitch_n + Servers_n\n",
        "\n",
        "  # we address switches and servers with numbers from bottom to top\n",
        "  Servers_range_start = 0  #include zero\n",
        "  Servers_range_end = (Servers_range_start + Servers_n) #exclude the end number\n",
        "  EdgeSwitch_range_start = Servers_range_end\n",
        "  EdgeSwitch_range_end = (EdgeSwitch_range_start + EdgeSwitch_n)\n",
        "  AggrSwitch_range_start = EdgeSwitch_range_end\n",
        "  AggrSwitch_range_end = (EdgeSwitch_range_end + AggrSwitch_n)\n",
        "  CoreSwitch_range_start = AggrSwitch_range_end\n",
        "  CoreSwitch_range_end = (AggrSwitch_range_end + CoreSwitch_n)\n",
        "\n",
        "  f.write(f'Servers_range = [{Servers_range_start},{Servers_range_end}) \\n')\n",
        "  f.write(f'EdgeSwitch_range = [{EdgeSwitch_range_start},{EdgeSwitch_range_end}) \\n')\n",
        "  f.write(f'AggrSwitch_range = [{AggrSwitch_range_start},{AggrSwitch_range_end}) \\n')\n",
        "  f.write(f'CoreSwitch_range = [{CoreSwitch_range_start},{CoreSwitch_range_end}) \\n')\n",
        "  f.write('-------------- \\n')\n",
        "\n",
        "\n",
        "  #connected list used when we want to keep track of connection and which are 1\n",
        "  connected= []\n",
        "\n",
        "\n",
        "  # program goes stage by stage bottom up, first we create links between EdgeSwitch and Servers\n",
        "  server_address = Servers_range_start\n",
        "  for EdgeSwitch_address in range(EdgeSwitch_range_start,EdgeSwitch_range_end):\n",
        "    for server in range(int(k/2)):   #each EdgeSwitch connects to (k/2) servers\n",
        "      out = (f'{EdgeSwitch_address:5d} \\t {server_address:5d} \\t 1 \\n')\n",
        "      f.write(out)\n",
        "      connected.append((EdgeSwitch_address,server_address))\n",
        "      out = (f'{server_address:5d} \\t {EdgeSwitch_address:5d} \\t 1 \\n')\n",
        "      f.write(out)\n",
        "      connected.append((server_address,EdgeSwitch_address))\n",
        "\n",
        "      server_address += 1\n",
        "\n",
        "\n",
        "  #connection between Aggregation switches and edge switches , from top to bottom\n",
        "\n",
        "  for pod in range(pods_n):\n",
        "    AggrSwitch_address = int(AggrSwitch_range_start + k/2 * pod)\n",
        "    for aggr in range(int(k/2)):    #each pod has k/2 AggrSwitches\n",
        "      EdgeSwitch_address = int(EdgeSwitch_range_start + k/2 * pod)\n",
        "      for edge in range(int(k/2)):  #each AggrSwitch connects to k/2 EdgeSwitches\n",
        "        out = (f'{AggrSwitch_address:5d} \\t {EdgeSwitch_address:5d} \\t 1 \\n')\n",
        "        f.write(out)\n",
        "        connected.append((AggrSwitch_address,EdgeSwitch_address))\n",
        "        out = (f'{EdgeSwitch_address:5d} \\t {AggrSwitch_address:5d} \\t 1 \\n')\n",
        "        f.write(out)\n",
        "        connected.append((EdgeSwitch_address,AggrSwitch_address))\n",
        "        EdgeSwitch_address += 1\n",
        "\n",
        "      AggrSwitch_address +=1\n",
        "      \n",
        "  #connection between Aggregation switches and Core switches , from bottom to top\n",
        "  # we know that in each pot , Aggregation switches connect to all cores , each one with k/2 connection\n",
        "  for pod in range(pods_n):\n",
        "    AggrSwitch_address = int(AggrSwitch_range_start + k/2 * pod)\n",
        "    CoreSwitch_address = CoreSwitch_range_start\n",
        "    for aggr in range(int(k/2)):    #each pod has k/2 AggrSwitches\n",
        "      for core in range(int(k/2)):\n",
        "        out = (f'{AggrSwitch_address:5d} \\t {CoreSwitch_address:5d} \\t 1 \\n')\n",
        "        f.write(out)\n",
        "        connected.append((AggrSwitch_address,CoreSwitch_address))\n",
        "        out = (f'{CoreSwitch_address:5d} \\t {AggrSwitch_address:5d} \\t 1 \\n')\n",
        "        f.write(out)\n",
        "        connected.append((CoreSwitch_address,AggrSwitch_address))\n",
        "        CoreSwitch_address += 1\n",
        "\n",
        "      AggrSwitch_address +=1\n",
        "\n",
        "\n",
        "\n",
        "  # implementing the zero connections\n",
        "  for i in range(allElements_n):\n",
        "    for j in range(allElements_n):\n",
        "      if ((i,j) not in connected) and (i != j):\n",
        "        out = (f'{i:5d} \\t {j:5d} \\t 0 \\n')\n",
        "        f.write(out)\n",
        "\n",
        "    \n",
        "  f.close()\n",
        "\n",
        "  #visualizing our network\n",
        "\n",
        "  net = Network()\n",
        "\n",
        "  for i in range(Servers_range_start,Servers_range_end):\n",
        "    net.add_node(i,label=str(i),color='black')\n",
        "\n",
        "  for i in range(EdgeSwitch_range_start,EdgeSwitch_range_end):\n",
        "    net.add_node(i,label=str(i),color='blue')\n",
        "\n",
        "  for i in range(AggrSwitch_range_start,AggrSwitch_range_end):\n",
        "    net.add_node(i,label=str(i),color='red')\n",
        "\n",
        "  for i in range(CoreSwitch_range_start,CoreSwitch_range_end):\n",
        "    net.add_node(i,label=str(i),color='green')\n",
        "\n",
        "  net.add_edges(connected)\n",
        "  #for i,j in connected:\n",
        "    #net.add_edge(i,j)\n",
        "\n",
        "  #net.repulsion(node_distance=400, spring_length=100)\n",
        "  net.show(\"gameofthrones.html\")"
      ],
      "metadata": {
        "id": "uiqpUwsR6ECv"
      },
      "execution_count": 102,
      "outputs": []
    },
    {
      "cell_type": "code",
      "source": [
        "FatTree(4)"
      ],
      "metadata": {
        "id": "2ALXBWEr6vqn"
      },
      "execution_count": 103,
      "outputs": []
    },
    {
      "cell_type": "code",
      "source": [
        "connected[:5]"
      ],
      "metadata": {
        "colab": {
          "base_uri": "https://localhost:8080/"
        },
        "id": "Z6zmm0o_ZNTl",
        "outputId": "95218cfd-0a5d-452a-911d-75fbff6ec572"
      },
      "execution_count": 51,
      "outputs": [
        {
          "output_type": "execute_result",
          "data": {
            "text/plain": [
              "[(16, 0), (0, 16), (16, 1), (1, 16), (17, 2)]"
            ]
          },
          "metadata": {},
          "execution_count": 51
        }
      ]
    },
    {
      "cell_type": "code",
      "source": [
        "from pyvis.network import Network\n",
        "net = Network()\n",
        "\n",
        "\n",
        "\n",
        "for i in range(Servers_range_start,Servers_range_end):\n",
        "  net.add_node(i,label=str(i),group='a')\n",
        "\n",
        "for i in range(EdgeSwitch_range_start,EdgeSwitch_range_end):\n",
        "  net.add_node(i,label=str(i),group='b')\n",
        "\n",
        "for i in range(AggrSwitch_range_start,AggrSwitch_range_end):\n",
        "  net.add_node(i,label=str(i),group='c')\n",
        "\n",
        "for i in range(CoreSwitch_range_start,CoreSwitch_range_end):\n",
        "  net.add_node(i,label=str(i),group='d')\n",
        "\n",
        "net.add_edges(connected)\n",
        "\n",
        "#for i,j in connected:\n",
        "  #net.add_edge(i,j)\n",
        "\n",
        "#net.repulsion(node_distance=400, spring_length=100)\n",
        "net.show(\"gameofthrones.html\")"
      ],
      "metadata": {
        "id": "8DYkCeQ4ZHyj"
      },
      "execution_count": 116,
      "outputs": []
    },
    {
      "cell_type": "code",
      "source": [
        "net.neighbors(16)"
      ],
      "metadata": {
        "colab": {
          "base_uri": "https://localhost:8080/"
        },
        "id": "OMZQUt1BoEcN",
        "outputId": "b7ee0593-2e44-4ce7-9ec6-88fcf95eda6a"
      },
      "execution_count": 107,
      "outputs": [
        {
          "output_type": "execute_result",
          "data": {
            "text/plain": [
              "{0, 1, 24, 25}"
            ]
          },
          "metadata": {},
          "execution_count": 107
        }
      ]
    },
    {
      "cell_type": "code",
      "source": [
        "net.num_edges()"
      ],
      "metadata": {
        "colab": {
          "base_uri": "https://localhost:8080/"
        },
        "id": "rS2yP4mBoZ6M",
        "outputId": "1a519696-ec7e-40fc-bc61-65916ade3dcc"
      },
      "execution_count": 109,
      "outputs": [
        {
          "output_type": "execute_result",
          "data": {
            "text/plain": [
              "48"
            ]
          },
          "metadata": {},
          "execution_count": 109
        }
      ]
    },
    {
      "cell_type": "code",
      "source": [
        "net.num_nodes()"
      ],
      "metadata": {
        "colab": {
          "base_uri": "https://localhost:8080/"
        },
        "id": "XTGic5SIohhN",
        "outputId": "5a788b3d-28e8-403a-add8-8fc4d17998f1"
      },
      "execution_count": 111,
      "outputs": [
        {
          "output_type": "execute_result",
          "data": {
            "text/plain": [
              "36"
            ]
          },
          "metadata": {},
          "execution_count": 111
        }
      ]
    },
    {
      "cell_type": "code",
      "source": [
        "net.inherit_edge_colors(True)"
      ],
      "metadata": {
        "id": "5XAsJR5nopoG"
      },
      "execution_count": 113,
      "outputs": []
    }
  ]
}