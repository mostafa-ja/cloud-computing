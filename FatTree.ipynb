{
  "nbformat": 4,
  "nbformat_minor": 0,
  "metadata": {
    "colab": {
      "provenance": [],
      "collapsed_sections": [],
      "authorship_tag": "ABX9TyPq1OsElLuQ0a3YYa/tZoZl",
      "include_colab_link": true
    },
    "kernelspec": {
      "name": "python3",
      "display_name": "Python 3"
    },
    "language_info": {
      "name": "python"
    }
  },
  "cells": [
    {
      "cell_type": "markdown",
      "metadata": {
        "id": "view-in-github",
        "colab_type": "text"
      },
      "source": [
        "<a href=\"https://colab.research.google.com/github/mostafa-ja/cloud-computing/blob/main/FatTree.ipynb\" target=\"_parent\"><img src=\"https://colab.research.google.com/assets/colab-badge.svg\" alt=\"Open In Colab\"/></a>"
      ]
    },
    {
      "cell_type": "code",
      "execution_count": 16,
      "metadata": {
        "id": "WkRmOQ3m9tOn"
      },
      "outputs": [],
      "source": [
        "import numpy as np"
      ]
    },
    {
      "cell_type": "code",
      "source": [
        "#import k from user's input\n",
        "k = 8\n",
        "\n",
        "#open the output file\n",
        "f = open(\"output.txt\",\"w\")\n",
        "\n",
        "\n",
        "#Calculating the pods, servers, core switches, aggregation switches\n",
        "\n",
        "pods_n = int(k)\n",
        "AggrSwitch_in_pod = int(k/2)\n",
        "AggrSwitch_n = int(k*AggrSwitch_in_pod)\n",
        "EdgeSwitch_in_pod = int(k/2)\n",
        "EdgeSwitch_n = int(k*EdgeSwitch_in_pod)\n",
        "Servers_in_pod = int(EdgeSwitch_in_pod*(k/2))\n",
        "Servers_n = int(Servers_in_pod*k)\n",
        "CoreSwitch_n = int((k/2)**2)\n",
        "\n",
        "# we address switches and servers with numbers from bottom to top\n",
        "Servers_range_start = 0  #include zero\n",
        "Servers_range_end = (Servers_range_start + Servers_n) #exclude the end number\n",
        "EdgeSwitch_range_start = Servers_range_end\n",
        "EdgeSwitch_range_end = (EdgeSwitch_range_start + EdgeSwitch_n)\n",
        "AggrSwitch_range_start = EdgeSwitch_range_end\n",
        "AggrSwitch_range_end = (EdgeSwitch_range_end + AggrSwitch_n)\n",
        "CoreSwitch_range_start = AggrSwitch_range_end\n",
        "CoreSwitch_range_end = (AggrSwitch_range_end + CoreSwitch_n)\n",
        "\n",
        "f.write(f'Servers_range = [{Servers_range_start},{Servers_range_end}) \\n')\n",
        "f.write(f'EdgeSwitch_range = [{EdgeSwitch_range_start},{EdgeSwitch_range_end}) \\n')\n",
        "f.write(f'AggrSwitch_range = [{AggrSwitch_range_start},{AggrSwitch_range_end}) \\n')\n",
        "f.write(f'CoreSwitch_range = [{CoreSwitch_range_start},{CoreSwitch_range_end}) \\n')"
      ],
      "metadata": {
        "id": "p49AS_PY91wh",
        "colab": {
          "base_uri": "https://localhost:8080/"
        },
        "outputId": "ffd67abe-2d81-4663-894a-0a0b24ea409e"
      },
      "execution_count": 68,
      "outputs": [
        {
          "output_type": "execute_result",
          "data": {
            "text/plain": [
              "30"
            ]
          },
          "metadata": {},
          "execution_count": 68
        }
      ]
    },
    {
      "cell_type": "code",
      "source": [
        "f.write('Servers_range_start = '+str(Servers_range_start)+ \"\\n\")\n",
        "f.write('Servers_range_end = '+str(Servers_range_end)+ \"\\n\")\n",
        "f.write('EdgeSwitch_range_start = '+str(EdgeSwitch_range_start)+ \"\\n\")\n",
        "f.write('EdgeSwitch_range_end = '+str(EdgeSwitch_range_end)+ \"\\n\")\n",
        "f.write('AggrSwitch_range_start = '+str(AggrSwitch_range_start)+ \"\\n\")\n",
        "f.write('AggrSwitch_range_end = '+str(AggrSwitch_range_end)+ \"\\n\")\n",
        "f.write('CoreSwitch_range_start = '+str(CoreSwitch_range_start)+ \"\\n\")\n",
        "f.write('CoreSwitch_range_end = '+str(CoreSwitch_range_end)+ \"\\n\")\n",
        "print('Servers_range_end = ',Servers_range_end)\n",
        "print('EdgeSwitch_range_end = ',EdgeSwitch_range_end)\n",
        "print('AggrSwitch_range_end = ',AggrSwitch_range_end)\n",
        "print('CoreSwitch_range_end = ',CoreSwitch_range_end)\n",
        "print()"
      ],
      "metadata": {
        "colab": {
          "base_uri": "https://localhost:8080/"
        },
        "id": "_7bj6HJEdg2V",
        "outputId": "2e97f652-6c29-412a-aa0e-492a2d61b5ff"
      },
      "execution_count": 52,
      "outputs": [
        {
          "output_type": "stream",
          "name": "stdout",
          "text": [
            "Servers_range_end =  128\n",
            "EdgeSwitch_range_end =  160\n",
            "AggrSwitch_range_end =  192\n",
            "CoreSwitch_range_end =  208\n",
            "\n"
          ]
        }
      ]
    },
    {
      "cell_type": "code",
      "source": [
        "# program goes stage by stage bottom up, first we create links between edge and servers\n",
        "server_number = 0\n",
        "for edge in range(EdgeSwitch_range_start,EdgeSwitch_range_end):\n",
        "  for i in range(int(k/2)):   #each edgeServer connects to (k/2) servers\n",
        "    out = (f'{edge} \\t {server_number} \\t 1 \\n')\n",
        "    f.write(out)\n",
        "    out = (f'{server_number} \\t {edge} \\t 1 \\n')\n",
        "    f.write(out)\n",
        "    #f.write(str(edge)+'\\t'+str(server_number)+'\\t'+\"1\"+'\\n')\n",
        "    #f.write(str(server_number)+'\\t'+str(edge)+'\\t'+\"1\"+'\\n')\n",
        "    server_number += 1\n",
        "\n"
      ],
      "metadata": {
        "id": "Pzh3QMS-eXKV"
      },
      "execution_count": 69,
      "outputs": []
    },
    {
      "cell_type": "code",
      "source": [
        "# counter is way that we address number of edge switches\n",
        "# counter starts at number of servers because 0 should be included in server counts\n",
        "counter = Servers_Count\n",
        "\n",
        "# server counter is a way to address the server for mapping between edge switches and servers\n",
        "Server_counter = 0\n",
        "\n",
        "# program goes stage by stage bottom up, first we create links between edge and servers\n",
        "\n",
        "for i in range(pods_Count):\n",
        "\n",
        "    for j in range(EdgeSwitch_Count_In_Pods):\n",
        "\n",
        "        for l in range (k//2):\n",
        "\n",
        "            out = str(counter)+\"\\t\"+str(Server_counter)+\"\\t\"+\"1\"+\"\\n\"\n",
        "            f.write(out)\n",
        "            \n",
        "\n",
        "            out = str(Server_counter) + \"\\t\" + str(counter) + \"\\t\" + \"1\" + \"\\n\"\n",
        "            f.write(out)\n",
        "            connected.append((Server_counter,counter ))\n",
        "            \n",
        "\n",
        "            Server_counter+=1\n",
        "\n",
        "        counter += 1\n",
        "\n",
        "#Handling connection between Aggregation switches and edge switches"
      ],
      "metadata": {
        "id": "jVmzY8xxYjMk"
      },
      "execution_count": null,
      "outputs": []
    },
    {
      "cell_type": "code",
      "source": [
        "for i in range(pods_Count):\n",
        "  for j in range(AggrSwitch_Count_In_Pods):\n",
        "    for l in range(k/2):\n",
        "      \n"
      ],
      "metadata": {
        "id": "6RLc9M2aNKR5"
      },
      "execution_count": null,
      "outputs": []
    }
  ]
}