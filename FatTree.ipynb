{
  "nbformat": 4,
  "nbformat_minor": 0,
  "metadata": {
    "colab": {
      "provenance": [],
      "collapsed_sections": [],
      "authorship_tag": "ABX9TyO7CIO6ndzaQ9oGzMPLhYgt",
      "include_colab_link": true
    },
    "kernelspec": {
      "name": "python3",
      "display_name": "Python 3"
    },
    "language_info": {
      "name": "python"
    }
  },
  "cells": [
    {
      "cell_type": "markdown",
      "metadata": {
        "id": "view-in-github",
        "colab_type": "text"
      },
      "source": [
        "<a href=\"https://colab.research.google.com/github/mostafa-ja/cloud-computing/blob/main/FatTree.ipynb\" target=\"_parent\"><img src=\"https://colab.research.google.com/assets/colab-badge.svg\" alt=\"Open In Colab\"/></a>"
      ]
    },
    {
      "cell_type": "code",
      "execution_count": null,
      "metadata": {
        "id": "WkRmOQ3m9tOn"
      },
      "outputs": [],
      "source": [
        "import numpy as np"
      ]
    },
    {
      "cell_type": "code",
      "source": [
        "#import k from user's input\n",
        "k = 4\n",
        "\n",
        "#open the output file\n",
        "f = open(\"output.txt\",\"w\")\n",
        "\n",
        "\n",
        "#Calculating the pods, servers, core switches, aggregation switches\n",
        "\n",
        "pods_n = int(k)\n",
        "AggrSwitch_in_pod = int(k/2)\n",
        "AggrSwitch_n = int(k*AggrSwitch_in_pod)\n",
        "EdgeSwitch_in_pod = int(k/2)\n",
        "EdgeSwitch_n = int(k*EdgeSwitch_in_pod)\n",
        "Servers_in_pod = int(EdgeSwitch_in_pod*(k/2))\n",
        "Servers_n = int(Servers_in_pod*k)\n",
        "CoreSwitch_n = int((k/2)**2)\n",
        "\n",
        "# we address switches and servers with numbers from bottom to top\n",
        "Servers_range_start = 0  #include zero\n",
        "Servers_range_end = (Servers_range_start + Servers_n) #exclude the end number\n",
        "EdgeSwitch_range_start = Servers_range_end\n",
        "EdgeSwitch_range_end = (EdgeSwitch_range_start + EdgeSwitch_n)\n",
        "AggrSwitch_range_start = EdgeSwitch_range_end\n",
        "AggrSwitch_range_end = (EdgeSwitch_range_end + AggrSwitch_n)\n",
        "CoreSwitch_range_start = AggrSwitch_range_end\n",
        "CoreSwitch_range_end = (AggrSwitch_range_end + CoreSwitch_n)\n",
        "\n",
        "f.write(f'Servers_range = [{Servers_range_start},{Servers_range_end}) \\n')\n",
        "f.write(f'EdgeSwitch_range = [{EdgeSwitch_range_start},{EdgeSwitch_range_end}) \\n')\n",
        "f.write(f'AggrSwitch_range = [{AggrSwitch_range_start},{AggrSwitch_range_end}) \\n')\n",
        "f.write(f'CoreSwitch_range = [{CoreSwitch_range_start},{CoreSwitch_range_end}) \\n')\n",
        "f.write('-------------- \\n')"
      ],
      "metadata": {
        "id": "p49AS_PY91wh",
        "colab": {
          "base_uri": "https://localhost:8080/"
        },
        "outputId": "64ef14ad-8d48-4137-8601-3afaef33aebf"
      },
      "execution_count": 74,
      "outputs": [
        {
          "output_type": "execute_result",
          "data": {
            "text/plain": [
              "16"
            ]
          },
          "metadata": {},
          "execution_count": 74
        }
      ]
    },
    {
      "cell_type": "code",
      "source": [
        "# program goes stage by stage bottom up, first we create links between edge and servers\n",
        "server_counter = Servers_range_start\n",
        "for edge in range(EdgeSwitch_range_start,EdgeSwitch_range_end):\n",
        "  for server in range(int(k/2)):   #each EdgeSwitch connects to (k/2) servers\n",
        "    out = (f'{edge:5d} \\t {server_counter:5d} \\t 1 \\n')\n",
        "    f.write(out)\n",
        "    out = (f'{server_counter:5d} \\t {edge:5d} \\t 1 \\n')\n",
        "    f.write(out)\n",
        "    server_counter += 1\n"
      ],
      "metadata": {
        "id": "Pzh3QMS-eXKV"
      },
      "execution_count": 48,
      "outputs": []
    },
    {
      "cell_type": "code",
      "source": [
        "#connection between Aggregation switches and edge switches , from top to bottom\n",
        "\n",
        "for pod in range(pods_n):\n",
        "  AggrSwitch_counter = int(AggrSwitch_range_start + k/2 * pod)\n",
        "  for aggr in range(int(k/2)):    #each pod has k/2 AggrSwitches\n",
        "    EdgeSwitch_counter = int(EdgeSwitch_range_start + k/2 * pod)\n",
        "    for edge in range(int(k/2)):  #each AggrSwitch connects to k/2 EdgeSwitches\n",
        "      out = (f'{AggrSwitch_counter:5d} \\t {EdgeSwitch_counter:5d} \\t 1 \\n')\n",
        "      f.write(out)\n",
        "      out = (f'{EdgeSwitch_counter:5d} \\t {AggrSwitch_counter:5d} \\t 1 \\n')\n",
        "      f.write(out)\n",
        "      EdgeSwitch_counter += 1\n",
        "\n",
        "    AggrSwitch_counter +=1"
      ],
      "metadata": {
        "id": "2aqG3WSSu9dA"
      },
      "execution_count": 72,
      "outputs": []
    },
    {
      "cell_type": "code",
      "source": [
        "#connection between Aggregation switches and Core switches , from bottom to top\n",
        "# we know that in each pot , Aggregation switches connect to all cores , each one with k/2 connection\n",
        "for pod in range(pods_n):\n",
        "  AggrSwitch_counter = int(AggrSwitch_range_start + k/2 * pod)\n",
        "  CoreSwitch_counter = CoreSwitch_range_start\n",
        "  for aggr in range(int(k/2)):    #each pod has k/2 AggrSwitches\n",
        "    for core in range(int(k/2)):\n",
        "      out = (f'{AggrSwitch_counter:5d} \\t {CoreSwitch_counter:5d} \\t 1 \\n')\n",
        "      f.write(out)\n",
        "      out = (f'{CoreSwitch_counter:5d} \\t {AggrSwitch_counter:5d} \\t 1 \\n')\n",
        "      f.write(out)\n",
        "      CoreSwitch_counter += 1\n",
        "\n",
        "    AggrSwitch_counter +=1"
      ],
      "metadata": {
        "id": "wKib-BbT3CTq"
      },
      "execution_count": 75,
      "outputs": []
    },
    {
      "cell_type": "code",
      "source": [
        "f.close()"
      ],
      "metadata": {
        "id": "PaCsxAYYpN_n"
      },
      "execution_count": 76,
      "outputs": []
    }
  ]
}