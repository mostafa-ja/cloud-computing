{
  "nbformat": 4,
  "nbformat_minor": 0,
  "metadata": {
    "colab": {
      "provenance": [],
      "collapsed_sections": [],
      "authorship_tag": "ABX9TyNGaTxXKJ8EpNk0ByxoxD3V",
      "include_colab_link": true
    },
    "kernelspec": {
      "name": "python3",
      "display_name": "Python 3"
    },
    "language_info": {
      "name": "python"
    }
  },
  "cells": [
    {
      "cell_type": "markdown",
      "metadata": {
        "id": "view-in-github",
        "colab_type": "text"
      },
      "source": [
        "<a href=\"https://colab.research.google.com/github/mostafa-ja/cloud-computing/blob/main/FatTree.ipynb\" target=\"_parent\"><img src=\"https://colab.research.google.com/assets/colab-badge.svg\" alt=\"Open In Colab\"/></a>"
      ]
    },
    {
      "cell_type": "code",
      "source": [
        "#import k from user's input\n",
        "k = 4\n",
        "\n",
        "#open the output file\n",
        "f = open(\"output.txt\",\"w\")\n",
        "\n",
        "\n",
        "#Calculating the pods, servers, core switches, aggregation switches\n",
        "\n",
        "pods_n = int(k)\n",
        "AggrSwitch_in_pod = int(k/2)\n",
        "AggrSwitch_n = int(k*AggrSwitch_in_pod)\n",
        "EdgeSwitch_in_pod = int(k/2)\n",
        "EdgeSwitch_n = int(k*EdgeSwitch_in_pod)\n",
        "Servers_in_pod = int(EdgeSwitch_in_pod*(k/2))\n",
        "Servers_n = int(Servers_in_pod*k)\n",
        "CoreSwitch_n = int((k/2)**2)\n",
        "\n",
        "AllSwitch_n = EdgeSwitch_n + AggrSwitch_n + CoreSwitch_n\n",
        "allElements_n = AllSwitch_n + Servers_n\n",
        "\n",
        "# we address switches and servers with numbers from bottom to top\n",
        "Servers_range_start = 0  #include zero\n",
        "Servers_range_end = (Servers_range_start + Servers_n) #exclude the end number\n",
        "EdgeSwitch_range_start = Servers_range_end\n",
        "EdgeSwitch_range_end = (EdgeSwitch_range_start + EdgeSwitch_n)\n",
        "AggrSwitch_range_start = EdgeSwitch_range_end\n",
        "AggrSwitch_range_end = (EdgeSwitch_range_end + AggrSwitch_n)\n",
        "CoreSwitch_range_start = AggrSwitch_range_end\n",
        "CoreSwitch_range_end = (AggrSwitch_range_end + CoreSwitch_n)\n",
        "\n",
        "f.write(f'Servers_range = [{Servers_range_start},{Servers_range_end}) \\n')\n",
        "f.write(f'EdgeSwitch_range = [{EdgeSwitch_range_start},{EdgeSwitch_range_end}) \\n')\n",
        "f.write(f'AggrSwitch_range = [{AggrSwitch_range_start},{AggrSwitch_range_end}) \\n')\n",
        "f.write(f'CoreSwitch_range = [{CoreSwitch_range_start},{CoreSwitch_range_end}) \\n')\n",
        "f.write('-------------- \\n')"
      ],
      "metadata": {
        "id": "p49AS_PY91wh",
        "colab": {
          "base_uri": "https://localhost:8080/"
        },
        "outputId": "1d5223eb-504b-42dc-9e20-7802d1af0fc8"
      },
      "execution_count": 1,
      "outputs": [
        {
          "output_type": "execute_result",
          "data": {
            "text/plain": [
              "16"
            ]
          },
          "metadata": {},
          "execution_count": 1
        }
      ]
    },
    {
      "cell_type": "code",
      "source": [
        "#connected list used when we want to keep track of connection and which are 1\n",
        "connected= []"
      ],
      "metadata": {
        "id": "e0YWRsY-D3oE"
      },
      "execution_count": 2,
      "outputs": []
    },
    {
      "cell_type": "code",
      "source": [
        "# program goes stage by stage bottom up, first we create links between EdgeSwitch and Servers\n",
        "server_address = Servers_range_start\n",
        "for EdgeSwitch_address in range(EdgeSwitch_range_start,EdgeSwitch_range_end):\n",
        "  for server in range(int(k/2)):   #each EdgeSwitch connects to (k/2) servers\n",
        "    out = (f'{EdgeSwitch_address:5d} \\t {server_address:5d} \\t 1 \\n')\n",
        "    f.write(out)\n",
        "    connected.append((EdgeSwitch_address,server_address))\n",
        "    out = (f'{server_address:5d} \\t {EdgeSwitch_address:5d} \\t 1 \\n')\n",
        "    f.write(out)\n",
        "    connected.append((server_address,EdgeSwitch_address))\n",
        "\n",
        "    server_address += 1\n"
      ],
      "metadata": {
        "id": "Pzh3QMS-eXKV"
      },
      "execution_count": 3,
      "outputs": []
    },
    {
      "cell_type": "code",
      "source": [
        "#connection between Aggregation switches and edge switches , from top to bottom\n",
        "\n",
        "for pod in range(pods_n):\n",
        "  AggrSwitch_address = int(AggrSwitch_range_start + k/2 * pod)\n",
        "  for aggr in range(int(k/2)):    #each pod has k/2 AggrSwitches\n",
        "    EdgeSwitch_address = int(EdgeSwitch_range_start + k/2 * pod)\n",
        "    for edge in range(int(k/2)):  #each AggrSwitch connects to k/2 EdgeSwitches\n",
        "      out = (f'{AggrSwitch_address:5d} \\t {EdgeSwitch_address:5d} \\t 1 \\n')\n",
        "      f.write(out)\n",
        "      connected.append((AggrSwitch_address,EdgeSwitch_address))\n",
        "      out = (f'{EdgeSwitch_address:5d} \\t {AggrSwitch_address:5d} \\t 1 \\n')\n",
        "      f.write(out)\n",
        "      connected.append((EdgeSwitch_address,AggrSwitch_address))\n",
        "      EdgeSwitch_address += 1\n",
        "\n",
        "    AggrSwitch_address +=1"
      ],
      "metadata": {
        "id": "2aqG3WSSu9dA"
      },
      "execution_count": 4,
      "outputs": []
    },
    {
      "cell_type": "code",
      "source": [
        "#connection between Aggregation switches and Core switches , from bottom to top\n",
        "# we know that in each pot , Aggregation switches connect to all cores , each one with k/2 connection\n",
        "for pod in range(pods_n):\n",
        "  AggrSwitch_address = int(AggrSwitch_range_start + k/2 * pod)\n",
        "  CoreSwitch_address = CoreSwitch_range_start\n",
        "  for aggr in range(int(k/2)):    #each pod has k/2 AggrSwitches\n",
        "    for core in range(int(k/2)):\n",
        "      out = (f'{AggrSwitch_address:5d} \\t {CoreSwitch_address:5d} \\t 1 \\n')\n",
        "      f.write(out)\n",
        "      connected.append((AggrSwitch_address,CoreSwitch_address))\n",
        "      out = (f'{CoreSwitch_address:5d} \\t {AggrSwitch_address:5d} \\t 1 \\n')\n",
        "      f.write(out)\n",
        "      connected.append((CoreSwitch_address,AggrSwitch_address))\n",
        "      CoreSwitch_address += 1\n",
        "\n",
        "    AggrSwitch_address +=1"
      ],
      "metadata": {
        "id": "wKib-BbT3CTq"
      },
      "execution_count": 5,
      "outputs": []
    },
    {
      "cell_type": "code",
      "source": [
        "# implementing the zero connections\n",
        "for i in range(allElements_n):\n",
        "  for j in range(allElements_n):\n",
        "    if ((i,j) not in connected) and (i != j):\n",
        "      out = (f'{i:5d} \\t {j:5d} \\t 0 \\n')\n",
        "      f.write(out)"
      ],
      "metadata": {
        "id": "QoAVD4CVFS7c"
      },
      "execution_count": 6,
      "outputs": []
    },
    {
      "cell_type": "code",
      "source": [
        "f.close()"
      ],
      "metadata": {
        "id": "PaCsxAYYpN_n"
      },
      "execution_count": 7,
      "outputs": []
    },
    {
      "cell_type": "code",
      "source": [
        "! pip install pyvis"
      ],
      "metadata": {
        "colab": {
          "base_uri": "https://localhost:8080/"
        },
        "id": "WXTqSOCUYbYW",
        "outputId": "75c90142-ac62-4781-8474-8d1ffb43262f"
      },
      "execution_count": 8,
      "outputs": [
        {
          "output_type": "stream",
          "name": "stdout",
          "text": [
            "Looking in indexes: https://pypi.org/simple, https://us-python.pkg.dev/colab-wheels/public/simple/\n",
            "Collecting pyvis\n",
            "  Downloading pyvis-0.3.0.tar.gz (592 kB)\n",
            "\u001b[?25l\r\u001b[K     |▌                               | 10 kB 25.3 MB/s eta 0:00:01\r\u001b[K     |█                               | 20 kB 34.9 MB/s eta 0:00:01\r\u001b[K     |█▋                              | 30 kB 41.2 MB/s eta 0:00:01\r\u001b[K     |██▏                             | 40 kB 46.2 MB/s eta 0:00:01\r\u001b[K     |██▊                             | 51 kB 50.8 MB/s eta 0:00:01\r\u001b[K     |███▎                            | 61 kB 55.9 MB/s eta 0:00:01\r\u001b[K     |███▉                            | 71 kB 40.0 MB/s eta 0:00:01\r\u001b[K     |████▍                           | 81 kB 41.3 MB/s eta 0:00:01\r\u001b[K     |█████                           | 92 kB 44.2 MB/s eta 0:00:01\r\u001b[K     |█████▌                          | 102 kB 43.1 MB/s eta 0:00:01\r\u001b[K     |██████                          | 112 kB 43.1 MB/s eta 0:00:01\r\u001b[K     |██████▋                         | 122 kB 43.1 MB/s eta 0:00:01\r\u001b[K     |███████▏                        | 133 kB 43.1 MB/s eta 0:00:01\r\u001b[K     |███████▊                        | 143 kB 43.1 MB/s eta 0:00:01\r\u001b[K     |████████▎                       | 153 kB 43.1 MB/s eta 0:00:01\r\u001b[K     |████████▉                       | 163 kB 43.1 MB/s eta 0:00:01\r\u001b[K     |█████████▍                      | 174 kB 43.1 MB/s eta 0:00:01\r\u001b[K     |██████████                      | 184 kB 43.1 MB/s eta 0:00:01\r\u001b[K     |██████████▌                     | 194 kB 43.1 MB/s eta 0:00:01\r\u001b[K     |███████████                     | 204 kB 43.1 MB/s eta 0:00:01\r\u001b[K     |███████████▋                    | 215 kB 43.1 MB/s eta 0:00:01\r\u001b[K     |████████████▏                   | 225 kB 43.1 MB/s eta 0:00:01\r\u001b[K     |████████████▊                   | 235 kB 43.1 MB/s eta 0:00:01\r\u001b[K     |█████████████▎                  | 245 kB 43.1 MB/s eta 0:00:01\r\u001b[K     |█████████████▉                  | 256 kB 43.1 MB/s eta 0:00:01\r\u001b[K     |██████████████▍                 | 266 kB 43.1 MB/s eta 0:00:01\r\u001b[K     |███████████████                 | 276 kB 43.1 MB/s eta 0:00:01\r\u001b[K     |███████████████▌                | 286 kB 43.1 MB/s eta 0:00:01\r\u001b[K     |████████████████                | 296 kB 43.1 MB/s eta 0:00:01\r\u001b[K     |████████████████▋               | 307 kB 43.1 MB/s eta 0:00:01\r\u001b[K     |█████████████████▏              | 317 kB 43.1 MB/s eta 0:00:01\r\u001b[K     |█████████████████▊              | 327 kB 43.1 MB/s eta 0:00:01\r\u001b[K     |██████████████████▎             | 337 kB 43.1 MB/s eta 0:00:01\r\u001b[K     |██████████████████▉             | 348 kB 43.1 MB/s eta 0:00:01\r\u001b[K     |███████████████████▍            | 358 kB 43.1 MB/s eta 0:00:01\r\u001b[K     |████████████████████            | 368 kB 43.1 MB/s eta 0:00:01\r\u001b[K     |████████████████████▌           | 378 kB 43.1 MB/s eta 0:00:01\r\u001b[K     |█████████████████████           | 389 kB 43.1 MB/s eta 0:00:01\r\u001b[K     |█████████████████████▋          | 399 kB 43.1 MB/s eta 0:00:01\r\u001b[K     |██████████████████████          | 409 kB 43.1 MB/s eta 0:00:01\r\u001b[K     |██████████████████████▋         | 419 kB 43.1 MB/s eta 0:00:01\r\u001b[K     |███████████████████████▏        | 430 kB 43.1 MB/s eta 0:00:01\r\u001b[K     |███████████████████████▊        | 440 kB 43.1 MB/s eta 0:00:01\r\u001b[K     |████████████████████████▎       | 450 kB 43.1 MB/s eta 0:00:01\r\u001b[K     |████████████████████████▉       | 460 kB 43.1 MB/s eta 0:00:01\r\u001b[K     |█████████████████████████▍      | 471 kB 43.1 MB/s eta 0:00:01\r\u001b[K     |██████████████████████████      | 481 kB 43.1 MB/s eta 0:00:01\r\u001b[K     |██████████████████████████▌     | 491 kB 43.1 MB/s eta 0:00:01\r\u001b[K     |███████████████████████████     | 501 kB 43.1 MB/s eta 0:00:01\r\u001b[K     |███████████████████████████▋    | 512 kB 43.1 MB/s eta 0:00:01\r\u001b[K     |████████████████████████████▏   | 522 kB 43.1 MB/s eta 0:00:01\r\u001b[K     |████████████████████████████▊   | 532 kB 43.1 MB/s eta 0:00:01\r\u001b[K     |█████████████████████████████▎  | 542 kB 43.1 MB/s eta 0:00:01\r\u001b[K     |█████████████████████████████▉  | 552 kB 43.1 MB/s eta 0:00:01\r\u001b[K     |██████████████████████████████▍ | 563 kB 43.1 MB/s eta 0:00:01\r\u001b[K     |███████████████████████████████ | 573 kB 43.1 MB/s eta 0:00:01\r\u001b[K     |███████████████████████████████▌| 583 kB 43.1 MB/s eta 0:00:01\r\u001b[K     |████████████████████████████████| 592 kB 43.1 MB/s \n",
            "\u001b[?25hRequirement already satisfied: jinja2>=2.9.6 in /usr/local/lib/python3.7/dist-packages (from pyvis) (2.11.3)\n",
            "Requirement already satisfied: networkx>=1.11 in /usr/local/lib/python3.7/dist-packages (from pyvis) (2.6.3)\n",
            "Requirement already satisfied: ipython>=5.3.0 in /usr/local/lib/python3.7/dist-packages (from pyvis) (7.9.0)\n",
            "Collecting jsonpickle>=1.4.1\n",
            "  Downloading jsonpickle-2.2.0-py2.py3-none-any.whl (39 kB)\n",
            "Requirement already satisfied: pygments in /usr/local/lib/python3.7/dist-packages (from ipython>=5.3.0->pyvis) (2.6.1)\n",
            "Requirement already satisfied: pickleshare in /usr/local/lib/python3.7/dist-packages (from ipython>=5.3.0->pyvis) (0.7.5)\n",
            "Requirement already satisfied: setuptools>=18.5 in /usr/local/lib/python3.7/dist-packages (from ipython>=5.3.0->pyvis) (57.4.0)\n",
            "Requirement already satisfied: decorator in /usr/local/lib/python3.7/dist-packages (from ipython>=5.3.0->pyvis) (4.4.2)\n",
            "Requirement already satisfied: prompt-toolkit<2.1.0,>=2.0.0 in /usr/local/lib/python3.7/dist-packages (from ipython>=5.3.0->pyvis) (2.0.10)\n",
            "Requirement already satisfied: traitlets>=4.2 in /usr/local/lib/python3.7/dist-packages (from ipython>=5.3.0->pyvis) (5.1.1)\n",
            "Requirement already satisfied: pexpect in /usr/local/lib/python3.7/dist-packages (from ipython>=5.3.0->pyvis) (4.8.0)\n",
            "Collecting jedi>=0.10\n",
            "  Downloading jedi-0.18.1-py2.py3-none-any.whl (1.6 MB)\n",
            "\u001b[K     |████████████████████████████████| 1.6 MB 73.2 MB/s \n",
            "\u001b[?25hRequirement already satisfied: backcall in /usr/local/lib/python3.7/dist-packages (from ipython>=5.3.0->pyvis) (0.2.0)\n",
            "Requirement already satisfied: parso<0.9.0,>=0.8.0 in /usr/local/lib/python3.7/dist-packages (from jedi>=0.10->ipython>=5.3.0->pyvis) (0.8.3)\n",
            "Requirement already satisfied: MarkupSafe>=0.23 in /usr/local/lib/python3.7/dist-packages (from jinja2>=2.9.6->pyvis) (2.0.1)\n",
            "Requirement already satisfied: importlib-metadata in /usr/local/lib/python3.7/dist-packages (from jsonpickle>=1.4.1->pyvis) (4.13.0)\n",
            "Requirement already satisfied: wcwidth in /usr/local/lib/python3.7/dist-packages (from prompt-toolkit<2.1.0,>=2.0.0->ipython>=5.3.0->pyvis) (0.2.5)\n",
            "Requirement already satisfied: six>=1.9.0 in /usr/local/lib/python3.7/dist-packages (from prompt-toolkit<2.1.0,>=2.0.0->ipython>=5.3.0->pyvis) (1.15.0)\n",
            "Requirement already satisfied: typing-extensions>=3.6.4 in /usr/local/lib/python3.7/dist-packages (from importlib-metadata->jsonpickle>=1.4.1->pyvis) (4.1.1)\n",
            "Requirement already satisfied: zipp>=0.5 in /usr/local/lib/python3.7/dist-packages (from importlib-metadata->jsonpickle>=1.4.1->pyvis) (3.9.0)\n",
            "Requirement already satisfied: ptyprocess>=0.5 in /usr/local/lib/python3.7/dist-packages (from pexpect->ipython>=5.3.0->pyvis) (0.7.0)\n",
            "Building wheels for collected packages: pyvis\n",
            "  Building wheel for pyvis (setup.py) ... \u001b[?25l\u001b[?25hdone\n",
            "  Created wheel for pyvis: filename=pyvis-0.3.0-py3-none-any.whl size=600250 sha256=23d02c99535793173bacabe955c254cc329c4972521f415e5a91bbfcfcf344c4\n",
            "  Stored in directory: /root/.cache/pip/wheels/57/74/32/e404e0d76fbb2dc4e3791b821cfae6a69c1a6677ded99dc8b7\n",
            "Successfully built pyvis\n",
            "Installing collected packages: jedi, jsonpickle, pyvis\n",
            "Successfully installed jedi-0.18.1 jsonpickle-2.2.0 pyvis-0.3.0\n"
          ]
        }
      ]
    },
    {
      "cell_type": "code",
      "source": [
        "from pyvis.network import Network\n",
        "net = Network(height='700px', width='100%')\n",
        "\n",
        "\n",
        "\n",
        "for i in range(Servers_range_start,Servers_range_end):\n",
        "  net.add_node(i,label=str(i),group='a')\n",
        "\n",
        "for i in range(EdgeSwitch_range_start,EdgeSwitch_range_end):\n",
        "  net.add_node(i,label=str(i),group='b')\n",
        "\n",
        "for i in range(AggrSwitch_range_start,AggrSwitch_range_end):\n",
        "  net.add_node(i,label=str(i),group='c')\n",
        "\n",
        "for i in range(CoreSwitch_range_start,CoreSwitch_range_end):\n",
        "  net.add_node(i,label=str(i),group='d')\n",
        "\n",
        "net.add_edges(connected)\n",
        "\n",
        "#for i,j in connected:\n",
        "  #net.add_edge(i,j)\n",
        "\n",
        "#net.repulsion(node_distance=400, spring_length=100)\n",
        "net.show(\"Network.html\")"
      ],
      "metadata": {
        "id": "8DYkCeQ4ZHyj"
      },
      "execution_count": 9,
      "outputs": []
    },
    {
      "cell_type": "code",
      "source": [
        "net.neighbors(16)"
      ],
      "metadata": {
        "colab": {
          "base_uri": "https://localhost:8080/"
        },
        "id": "OMZQUt1BoEcN",
        "outputId": "63408854-6206-47e7-c3f0-d94908b35d61"
      },
      "execution_count": 10,
      "outputs": [
        {
          "output_type": "execute_result",
          "data": {
            "text/plain": [
              "{0, 1, 24, 25}"
            ]
          },
          "metadata": {},
          "execution_count": 10
        }
      ]
    },
    {
      "cell_type": "code",
      "source": [
        "net.num_edges()"
      ],
      "metadata": {
        "colab": {
          "base_uri": "https://localhost:8080/"
        },
        "id": "rS2yP4mBoZ6M",
        "outputId": "acf0eca5-01ed-4228-d5dc-e6fb8a126068"
      },
      "execution_count": 11,
      "outputs": [
        {
          "output_type": "execute_result",
          "data": {
            "text/plain": [
              "48"
            ]
          },
          "metadata": {},
          "execution_count": 11
        }
      ]
    },
    {
      "cell_type": "code",
      "source": [
        "net.num_nodes()"
      ],
      "metadata": {
        "colab": {
          "base_uri": "https://localhost:8080/"
        },
        "id": "XTGic5SIohhN",
        "outputId": "68c8c125-5f40-4eba-85f4-f0f6798208e7"
      },
      "execution_count": 12,
      "outputs": [
        {
          "output_type": "execute_result",
          "data": {
            "text/plain": [
              "36"
            ]
          },
          "metadata": {},
          "execution_count": 12
        }
      ]
    }
  ]
}